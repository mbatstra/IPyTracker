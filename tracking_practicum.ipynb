{
 "cells": [
  {
   "cell_type": "markdown",
   "id": "684bbff2-8ad5-4010-9616-926de41772ed",
   "metadata": {},
   "source": [
    "# IPyTracker\n",
    "Jupyter Notebook to perform detection, tracking, and analysis."
   ]
  },
  {
   "cell_type": "markdown",
   "id": "846d8c9e-eae1-42ff-860e-5a84fb797b60",
   "metadata": {},
   "source": [
    "## Import Section\n",
    "Feel free to add lines below to suit your needs. Only remove or edit lines if you know what you're doing."
   ]
  },
  {
   "cell_type": "code",
   "execution_count": null,
   "id": "4ffc637d-bc73-4a02-9087-1f9d99f398f7",
   "metadata": {},
   "outputs": [],
   "source": [
    "from ipywidgets import Video, Image, FloatSlider, IntSlider, Button, Output, VBox\n",
    "from IPython.display import display\n",
    "from dataclasses import dataclass, fields\n",
    "%matplotlib inline \n",
    "from matplotlib import pyplot as plt\n",
    "import numpy as np\n",
    "import time\n",
    "import os\n",
    "import cv2"
   ]
  },
  {
   "cell_type": "markdown",
   "id": "87594164-7c0e-43e8-8e67-7f17a6ab042a",
   "metadata": {},
   "source": [
    "## Single Image Capture\n",
    "The below cell captures, saves, and displays a single image. You might find this useful for positioning your camera correctly. Alternatively, use a program of your own choice to display a preview window."
   ]
  },
  {
   "cell_type": "code",
   "execution_count": 26,
   "id": "e6021687-af6b-4cc0-81b0-fa4c2e80ab43",
   "metadata": {},
   "outputs": [
    {
     "data": {
      "application/vnd.jupyter.widget-view+json": {
       "model_id": "dec3b772895f403dbd354fff5374a128",
       "version_major": 2,
       "version_minor": 0
      },
      "text/plain": [
       "Image(value=b'\\x89PNG\\r\\n\\x1a\\n\\x00\\x00\\x00\\rIHDR\\x00\\x00\\x03\\x00\\x00\\x00\\x01\\xb0\\x08\\x02\\x00\\x00\\x00\\x91\\xb6\\…"
      ]
     },
     "execution_count": 26,
     "metadata": {},
     "output_type": "execute_result"
    }
   ],
   "source": [
    "# path to write image to\n",
    "path = 'data/still.png'\n",
    "\n",
    "# capture image\n",
    "os.system(f'libcamera-still --width 768 --height 432 -t 1 -e png -o {path} 2>/dev/null')\n",
    "\n",
    "# display image\n",
    "img = Image.from_file(path)\n",
    "img"
   ]
  },
  {
   "cell_type": "markdown",
   "id": "1e7235e3-a4f3-43c8-a1ed-3b1d9a553959",
   "metadata": {},
   "source": [
    "## Video Capture\n",
    "Below cell captures video, converts it to the mp4 format, and displays it in a loop. Additionally, timestamps are also saved per frame."
   ]
  },
  {
   "cell_type": "code",
   "execution_count": 35,
   "id": "26b5c4f0-9b35-4a8e-898d-9c1062754001",
   "metadata": {},
   "outputs": [
    {
     "name": "stdout",
     "output_type": "stream",
     "text": [
      "starting video capture\n",
      "starting video conversion\n"
     ]
    },
    {
     "data": {
      "application/vnd.jupyter.widget-view+json": {
       "model_id": "539800414cea4c82a89b3955748ad805",
       "version_major": 2,
       "version_minor": 0
      },
      "text/plain": [
       "Video(value=b'\\x00\\x00\\x00 ftypisom\\x00\\x00\\x02\\x00isomiso2avc1mp41\\x00\\x00\\x00\\x08free...')"
      ]
     },
     "execution_count": 35,
     "metadata": {},
     "output_type": "execute_result"
    }
   ],
   "source": [
    "# no file extension in path\n",
    "path = 'data/recording'\n",
    "\n",
    "# video capture duration\n",
    "length = 10000\n",
    "\n",
    "# capture video\n",
    "os.system('echo \"starting video capture\"')\n",
    "os.system(f'libcamera-vid --width 768 --height 432 --denoise cdn_off --framerate 100 --save-pts {path}.pts -t {length} -o {path}.h264 -n 2>/dev/null')\n",
    "# os.system(f'libcamera-vid --width 768 --height 432 --framerate 100 -t {length} -o {path}.h264 -n 2>/dev/null')\n",
    "\n",
    "# convert .h264 to .mp4\n",
    "os.system('echo \"starting video conversion\"')\n",
    "os.system(f'ffmpeg -y -i {path}.h264 {path}.mp4 2>/dev/null')\n",
    "\n",
    "# display video\n",
    "vid = Video.from_file(f'{path}.mp4')\n",
    "vid"
   ]
  },
  {
   "cell_type": "markdown",
   "id": "0393c712-1f58-4268-b148-7c208277412c",
   "metadata": {},
   "source": [
    "## Single Frame Selection\n",
    "This cell allows you to select a single frame from your video. This can be very useful in order to finetune your configuration for the circle detection algorithm. Again, use any other tool if this is not your preferred method.\n",
    "Hint: single-click the slider and use the arrow keys for precise scrolling."
   ]
  },
  {
   "cell_type": "code",
   "execution_count": 36,
   "id": "aa6acc32-8e08-4612-a195-809093066414",
   "metadata": {},
   "outputs": [
    {
     "name": "stdout",
     "output_type": "stream",
     "text": [
      "936.0\n"
     ]
    },
    {
     "data": {
      "application/vnd.jupyter.widget-view+json": {
       "model_id": "57d38a0bcd2b4214baf888edf3c64765",
       "version_major": 2,
       "version_minor": 0
      },
      "text/plain": [
       "FloatSlider(value=0.0, max=1.0, step=0.005)"
      ]
     },
     "metadata": {},
     "output_type": "display_data"
    },
    {
     "data": {
      "application/vnd.jupyter.widget-view+json": {
       "model_id": "892f063e89a047c4b4f92d4eeb33d535",
       "version_major": 2,
       "version_minor": 0
      },
      "text/plain": [
       "Button(description='Save Frame', style=ButtonStyle())"
      ]
     },
     "metadata": {},
     "output_type": "display_data"
    },
    {
     "data": {
      "application/vnd.jupyter.widget-view+json": {
       "model_id": "7bbab652e1524986a001b539a3e0faa5",
       "version_major": 2,
       "version_minor": 0
      },
      "text/plain": [
       "Output()"
      ]
     },
     "execution_count": 36,
     "metadata": {},
     "output_type": "execute_result"
    }
   ],
   "source": [
    "# path to source video\n",
    "video_path = 'data/recording.mp4'\n",
    "\n",
    "# path to write selected frame to\n",
    "frame_path = 'data/frame.png'\n",
    "\n",
    "# our image byte array\n",
    "img = np.ndarray((1,1,1))\n",
    "\n",
    "# calculate number of frames in video\n",
    "cap = cv2.VideoCapture(video_path)\n",
    "nr_frames = cap.get(cv2.CAP_PROP_FRAME_COUNT)\n",
    "print(nr_frames)\n",
    "\n",
    "# ui elements\n",
    "slider = FloatSlider(min=0, max=1.0, step=0.005)\n",
    "button = Button(description='Save Frame')\n",
    "out = Output()\n",
    "display(slider, button)\n",
    "\n",
    "# gets called each time slider value changes\n",
    "def slider_callback(change):\n",
    "    global img\n",
    "    with out:\n",
    "        out.clear_output()\n",
    "        frame_nr = int(change['new'] * nr_frames)\n",
    "        cap.set(cv2.CAP_PROP_POS_FRAMES, frame_nr)\n",
    "        ret, img = cap.read()\n",
    "        if ret:\n",
    "            img = cv2.cvtColor(img, cv2.COLOR_BGR2RGB)\n",
    "            plt.axis('off')\n",
    "            plt.imshow(img)\n",
    "            plt.tight_layout()\n",
    "            plt.show()\n",
    "\n",
    "# gets called each time button gets pressed\n",
    "def button_callback(_):\n",
    "    global img\n",
    "    with out:\n",
    "        img = cv2.cvtColor(img, cv2.COLOR_RGB2BGR)\n",
    "        cv2.imwrite(frame_path, img)\n",
    "        print('image saved')\n",
    "    \n",
    "\n",
    "# register callback functions\n",
    "slider.observe(slider_callback, names='value')\n",
    "button.on_click(button_callback)\n",
    "\n",
    "# display callback output\n",
    "out"
   ]
  },
  {
   "cell_type": "markdown",
   "id": "d7d58638-5ea2-4eee-8041-2b31fe795dc4",
   "metadata": {},
   "source": [
    "## Circle Detection Algorithm\n",
    "The actual circle detection algorithm. For more info on the meaning of the config fields, please refer to the openCV documentation.\n",
    "Right now, this only function only returns a marked image. CSV ouput will be added in the future."
   ]
  },
  {
   "cell_type": "code",
   "execution_count": 42,
   "id": "29497e1a-ac2e-4280-b84e-49d94814f7cb",
   "metadata": {},
   "outputs": [],
   "source": [
    "# sharpening kernel\n",
    "kernel = np.array([ \\\n",
    "    [0, -1, 0],     \\\n",
    "    [-1, 5, -1],    \\\n",
    "    [0, -1, 0]      \\\n",
    "])\n",
    "\n",
    "# hough detection configuration\n",
    "@dataclass\n",
    "class HoughConfig:\n",
    "    min_dist: int = 10\n",
    "    hi_thresh: int = 50\n",
    "    acc_thresh: int = 30\n",
    "    min_radius: int = 10\n",
    "    max_radius: int = 0\n",
    "    preprocessing_thresh: int = 80\n",
    "\n",
    "# circle detector\n",
    "def track_objects(img, conf):\n",
    "    # preprocessing\n",
    "    gray = cv2.cvtColor(img, cv2.COLOR_BGR2GRAY)\n",
    "    blur = cv2.medianBlur(gray, 5)\n",
    "    sharp = cv2.filter2D(blur, -1, kernel)\n",
    "    _, thresh = cv2.threshold(sharp, conf.preprocessing_thresh, 255, cv2.THRESH_BINARY)\n",
    "\n",
    "    # detect circles\n",
    "    circles = cv2.HoughCircles(                               \\\n",
    "        thresh, cv2.HOUGH_GRADIENT, 1, conf.min_dist,         \\\n",
    "        param1=conf.hi_thresh, param2=conf.acc_thresh,        \\\n",
    "        minRadius=conf.min_radius, maxRadius=conf.max_radius  \\\n",
    "    )\n",
    "    if circles is None:\n",
    "        return thresh\n",
    "\n",
    "    # draw circles\n",
    "    circles = np.uint16(np.around(circles))\n",
    "    res = cv2.cvtColor(thresh, cv2.COLOR_GRAY2BGR)\n",
    "    for i in circles[0,:]:\n",
    "        cv2.circle(res, (i[0],i[1]), i[2], (0,255,0), 2)\n",
    "        cv2.circle(res, (i[0],i[1]), 2, (0,0,255), 3)\n",
    "    return res"
   ]
  },
  {
   "cell_type": "markdown",
   "id": "078aaa55-8ced-4a5b-b06a-db04ae05f020",
   "metadata": {},
   "source": [
    "## Detection Configuration\n",
    "Using the sliders from the cell below, you can create a configuration for the detection algorithm to suit your specific needs. Of course, your configuration is restricted to a certain domain using only these 6 parameters. Luckily, openCV provides a lot of documentation and tutorials, so don't be afraid to get your hands dirty!"
   ]
  },
  {
   "cell_type": "code",
   "execution_count": 53,
   "id": "ed54cdb6-58d9-4184-a364-64e30eb3a2a5",
   "metadata": {},
   "outputs": [
    {
     "data": {
      "application/vnd.jupyter.widget-view+json": {
       "model_id": "26897b5d921e4034990e3c179e490850",
       "version_major": 2,
       "version_minor": 0
      },
      "text/plain": [
       "VBox(children=(IntSlider(value=10, description='min_dist'), IntSlider(value=50, description='hi_thresh'), IntS…"
      ]
     },
     "metadata": {},
     "output_type": "display_data"
    },
    {
     "data": {
      "application/vnd.jupyter.widget-view+json": {
       "model_id": "0c14c92888e44ffb939894b7e4aa9657",
       "version_major": 2,
       "version_minor": 0
      },
      "text/plain": [
       "Button(description='Save Configuration', style=ButtonStyle())"
      ]
     },
     "metadata": {},
     "output_type": "display_data"
    },
    {
     "data": {
      "application/vnd.jupyter.widget-view+json": {
       "model_id": "9c3e0678573e45bd9b369c9b8590ae8f",
       "version_major": 2,
       "version_minor": 0
      },
      "text/plain": [
       "Output()"
      ]
     },
     "execution_count": 53,
     "metadata": {},
     "output_type": "execute_result"
    }
   ],
   "source": [
    "# path to read selected frame from\n",
    "frame_path = 'data/frame.png'\n",
    "\n",
    "# create a default configuration\n",
    "config = HoughConfig()\n",
    "\n",
    "# gets called each time a slider value changes\n",
    "def slider_callback(change):\n",
    "    global img\n",
    "    with out:\n",
    "        out.clear_output()\n",
    "        # update config\n",
    "        setattr(config, change.owner.description, change.new)\n",
    "        \n",
    "        # apply tracking\n",
    "        unmarked = cv2.imread(frame_path)\n",
    "        marked = track_objects(unmarked, config)\n",
    "        marked = cv2.cvtColor(marked, cv2.COLOR_BGR2RGB)\n",
    "        \n",
    "        # show image\n",
    "        plt.axis('off')\n",
    "        plt.imshow(marked)\n",
    "        plt.tight_layout()\n",
    "        plt.show()\n",
    "\n",
    "# gets called each time button gets pressed\n",
    "def button_callback(_):\n",
    "    pass\n",
    "        \n",
    "# ui elements\n",
    "button = Button(description='Save Configuration')\n",
    "sliders = []\n",
    "\n",
    "# one slider for each field in our config\n",
    "for field in fields(HoughConfig):\n",
    "    # create slider\n",
    "    slider = IntSlider(\n",
    "        value=getattr(config, field.name),\n",
    "        min=0,\n",
    "        max=100,  # Adjust max value as needed\n",
    "        step=1,\n",
    "        description=field.name\n",
    "    )\n",
    "    # Register the callback with each slider\n",
    "    slider.observe(slider_callback, 'value')\n",
    "    sliders.append(slider)\n",
    "    \n",
    "# register button callback\n",
    "button.on_click(button_callback)\n",
    "\n",
    "out = Output()\n",
    "display(VBox(sliders), button)\n",
    "\n",
    "# display callback output\n",
    "out"
   ]
  },
  {
   "cell_type": "code",
   "execution_count": null,
   "id": "4ab3307a-8e95-4fef-bcf5-e75619e25327",
   "metadata": {},
   "outputs": [],
   "source": []
  }
 ],
 "metadata": {
  "kernelspec": {
   "display_name": "Python 3 (ipykernel)",
   "language": "python",
   "name": "python3"
  },
  "language_info": {
   "codemirror_mode": {
    "name": "ipython",
    "version": 3
   },
   "file_extension": ".py",
   "mimetype": "text/x-python",
   "name": "python",
   "nbconvert_exporter": "python",
   "pygments_lexer": "ipython3",
   "version": "3.9.2"
  }
 },
 "nbformat": 4,
 "nbformat_minor": 5
}
