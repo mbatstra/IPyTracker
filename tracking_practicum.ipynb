{
 "cells": [
  {
   "cell_type": "markdown",
   "id": "684bbff2-8ad5-4010-9616-926de41772ed",
   "metadata": {},
   "source": [
    "# IPyTracker\n",
    "Jupyter Notebook to perform circle detection, tracking, and analysis."
   ]
  },
  {
   "cell_type": "code",
   "execution_count": 4,
   "id": "4ffc637d-bc73-4a02-9087-1f9d99f398f7",
   "metadata": {},
   "outputs": [],
   "source": [
    "from ipywidgets import Video, Image, FloatSlider, IntSlider, Button, Output, VBox, interact\n",
    "from IPython.display import display\n",
    "from dataclasses import dataclass, fields\n",
    "from datetime import timedelta, datetime\n",
    "%matplotlib inline \n",
    "from matplotlib import pyplot as plt\n",
    "import numpy as np\n",
    "import time\n",
    "import os\n",
    "import cv2\n",
    "import ffmpeg\n",
    "import csv\n",
    "import math\n",
    "import warnings\n",
    "warnings.filterwarnings(\"ignore\", \"\\nPyarrow\", DeprecationWarning) # avoid installing pyarrow because it is huge\n",
    "import pandas as pd"
   ]
  },
  {
   "cell_type": "markdown",
   "id": "1bc7e71b",
   "metadata": {},
   "source": [
    "## Filename Generation\n",
    "It is important to be structured when organizing and naming data/files. This will obviously allow you to work more efficiently. But above all, it allows you to scale up your research easily. Below function helps by generating a path that you can save your different files to. You can edit it to suit your own needs and preferences."
   ]
  },
  {
   "cell_type": "code",
   "execution_count": 5,
   "id": "550da452",
   "metadata": {},
   "outputs": [],
   "source": [
    "def get_unique_filename():\n",
    "    # make directory if necessary\n",
    "    if not os.path.exists('data'):\n",
    "        print('creating data directory')\n",
    "        os.makedirs('data')\n",
    "        \n",
    "    # append timestamp and unique number to filename\n",
    "    name = 'data/recording_' + datetime.now().strftime('%m%d_%I:%M')\n",
    "    filenumber = 0\n",
    "    while os.path.isfile(name + str(filenumber).zfill(3) + '.h264'):\n",
    "        filenumber += 1\n",
    "    return name + '_' + str(filenumber).zfill(3)\n",
    "\n",
    "path = get_unique_filename()"
   ]
  },
  {
   "cell_type": "markdown",
   "id": "87594164-7c0e-43e8-8e67-7f17a6ab042a",
   "metadata": {},
   "source": [
    "## Single Image Capture\n",
    "The below cell captures, saves, and displays a single image. You might find this useful for positioning your camera correctly. Alternatively, use a program of your own choice to display a preview window."
   ]
  },
  {
   "cell_type": "code",
   "execution_count": 6,
   "id": "e6021687-af6b-4cc0-81b0-fa4c2e80ab43",
   "metadata": {},
   "outputs": [
    {
     "data": {
      "application/vnd.jupyter.widget-view+json": {
       "model_id": "e9c02bf34c344546818ebabe4e55968f",
       "version_major": 2,
       "version_minor": 0
      },
      "text/plain": [
       "Image(value=b'\\x89PNG\\r\\n\\x1a\\n\\x00\\x00\\x00\\rIHDR\\x00\\x00\\x03\\x00\\x00\\x00\\x01\\xb0\\x08\\x02\\x00\\x00\\x00\\x91\\xb6\\…"
      ]
     },
     "metadata": {},
     "output_type": "display_data"
    }
   ],
   "source": [
    "# path to write image to\n",
    "global path\n",
    "still_path = path + '.png'\n",
    "\n",
    "# capture image\n",
    "os.system(f'libcamera-still --width 768 --height 432 --immediate -n -e png -o {still_path} 2>/dev/null')\n",
    "\n",
    "# display image\n",
    "img = Image.from_file(still_path)\n",
    "img"
   ]
  },
  {
   "cell_type": "markdown",
   "id": "1e7235e3-a4f3-43c8-a1ed-3b1d9a553959",
   "metadata": {},
   "source": [
    "## Video Capture\n",
    "Below cell captures video, converts it to the mp4 format, and displays it in a loop. Additionally, timestamps are also saved per frame."
   ]
  },
  {
   "cell_type": "code",
   "execution_count": 8,
   "id": "26b5c4f0-9b35-4a8e-898d-9c1062754001",
   "metadata": {},
   "outputs": [
    {
     "name": "stdout",
     "output_type": "stream",
     "text": [
      "starting video capture\n",
      "starting video conversion\n"
     ]
    },
    {
     "data": {
      "application/vnd.jupyter.widget-view+json": {
       "model_id": "a1cf751af6c74f2aa4970b0a4ba198f4",
       "version_major": 2,
       "version_minor": 0
      },
      "text/plain": [
       "Video(value=b'\\x00\\x00\\x00 ftypisom\\x00\\x00\\x02\\x00isomiso2avc1mp41\\x00\\x00\\x00\\x08free\\x00\\x04\\x8a[mdat\\x00\\x…"
      ]
     },
     "metadata": {},
     "output_type": "display_data"
    }
   ],
   "source": [
    "global path\n",
    "\n",
    "# video capture/global settings\n",
    "video_path = path             # no file extension in path so it is reusable\n",
    "length = 10000                # video capture duration in milliseconds\n",
    "focus = 0.75                  # lens distance to focus point in meters\n",
    "width = 768                   # frame width\n",
    "height = 432                  # frame height\n",
    "shutter = 750                 # exposure time in microseconds\n",
    "gain = 1.5                    # gain to apply to image\n",
    "fps = 100                     # capture framerate\n",
    "\n",
    "# specify options for video recording\n",
    "flags = f'--width {width} --height {height} --shutter {shutter} -t {length} -n --gain {gain} --denoise cdn_off --level 4.2 --framerate {fps} --autofocus-mode manual --lens-position {1 / focus}'\n",
    "\n",
    "# capture video\n",
    "os.system('echo \"starting video capture\"')\n",
    "os.system(f'libcamera-vid {flags} --save-pts {video_path}.pts -o {video_path}.h264 -n 2>/dev/null')\n",
    "\n",
    "# convert .h264 to .mp4\n",
    "os.system('echo \"starting video conversion\"')\n",
    "os.system(f'ffmpeg -y -i {video_path}.h264 {video_path}.mp4 2>/dev/null')\n",
    "\n",
    "# display video\n",
    "vid = Video.from_file(f'{video_path}.mp4')\n",
    "vid"
   ]
  },
  {
   "cell_type": "markdown",
   "id": "0393c712-1f58-4268-b148-7c208277412c",
   "metadata": {},
   "source": [
    "## Single Frame Selection\n",
    "This cell allows you to select a single frame from your video. This can be very useful in order to finetune your configuration for the circle detection algorithm. Again, use any other tool if this is not your preferred method.\n",
    "Hint: single-click the slider and use the arrow keys for precise scrolling."
   ]
  },
  {
   "cell_type": "code",
   "execution_count": 9,
   "id": "aa6acc32-8e08-4612-a195-809093066414",
   "metadata": {},
   "outputs": [
    {
     "data": {
      "application/vnd.jupyter.widget-view+json": {
       "model_id": "86ea28e523f54b0ab4cbdc5b8f6c31b3",
       "version_major": 2,
       "version_minor": 0
      },
      "text/plain": [
       "FloatSlider(value=0.0, max=1.0, step=0.005)"
      ]
     },
     "metadata": {},
     "output_type": "display_data"
    },
    {
     "data": {
      "application/vnd.jupyter.widget-view+json": {
       "model_id": "7bbaaa7ffeac421c9d1438dc4b06c931",
       "version_major": 2,
       "version_minor": 0
      },
      "text/plain": [
       "Button(description='Save Frame', style=ButtonStyle())"
      ]
     },
     "metadata": {},
     "output_type": "display_data"
    },
    {
     "data": {
      "application/vnd.jupyter.widget-view+json": {
       "model_id": "e66bfd73f55646b88dd6116da704b4fd",
       "version_major": 2,
       "version_minor": 0
      },
      "text/plain": [
       "Output()"
      ]
     },
     "metadata": {},
     "output_type": "display_data"
    }
   ],
   "source": [
    "global path\n",
    "\n",
    "# path to source video\n",
    "video_path = path + '.mp4'\n",
    "\n",
    "# path to write selected frame to\n",
    "frame_path = path + '.png'\n",
    "\n",
    "# our image byte array\n",
    "img = np.ndarray((1,1,1))\n",
    "\n",
    "# calculate number of frames in video\n",
    "cap = cv2.VideoCapture(video_path)\n",
    "nr_frames = cap.get(cv2.CAP_PROP_FRAME_COUNT)\n",
    "\n",
    "# ui elements\n",
    "slider = FloatSlider(min=0, max=1.0, step=0.005)\n",
    "button = Button(description='Save Frame')\n",
    "out = Output()\n",
    "display(slider, button)\n",
    "\n",
    "# gets called each time slider value changes\n",
    "def slider_callback(change):\n",
    "    global img\n",
    "    with out:\n",
    "        out.clear_output()\n",
    "        frame_nr = int(change['new'] * nr_frames)\n",
    "        cap.set(cv2.CAP_PROP_POS_FRAMES, frame_nr)\n",
    "        ret, img = cap.read()\n",
    "        if ret:\n",
    "            img = cv2.cvtColor(img, cv2.COLOR_BGR2RGB)\n",
    "            plt.axis('off')\n",
    "            plt.imshow(img)\n",
    "            plt.tight_layout()\n",
    "            plt.show()\n",
    "\n",
    "# gets called each time button gets pressed\n",
    "def button_callback(_):\n",
    "    global img\n",
    "    with out:\n",
    "        img = cv2.cvtColor(img, cv2.COLOR_RGB2BGR)\n",
    "        cv2.imwrite(frame_path, img)\n",
    "        print('image saved')\n",
    "    \n",
    "\n",
    "# register callback functions\n",
    "slider.observe(slider_callback, names='value')\n",
    "button.on_click(button_callback)\n",
    "\n",
    "# display callback output\n",
    "out"
   ]
  },
  {
   "cell_type": "markdown",
   "id": "d7d58638-5ea2-4eee-8041-2b31fe795dc4",
   "metadata": {},
   "source": [
    "## Circle Detection Algorithm\n",
    "The actual circle detection algorithm. For more info on the meaning of the config fields, please refer to the openCV documentation.\n",
    "Right now, this only function only returns a marked image. CSV ouput will be added in the future."
   ]
  },
  {
   "cell_type": "code",
   "execution_count": 10,
   "id": "29497e1a-ac2e-4280-b84e-49d94814f7cb",
   "metadata": {},
   "outputs": [],
   "source": [
    "# sharpening kernel\n",
    "kernel = np.array([ \\\n",
    "    [0, -1, 0],     \\\n",
    "    [-1, 5, -1],    \\\n",
    "    [0, -1, 0]      \\\n",
    "])\n",
    "\n",
    "# hough detection configuration\n",
    "@dataclass\n",
    "class HoughConfig:\n",
    "    min_dist: int = 10\n",
    "    hi_thresh: int = 50\n",
    "    acc_thresh: int = 30\n",
    "    min_radius: int = 10\n",
    "    max_radius: int = 0\n",
    "    preprocessing_thresh: int = 80\n",
    "\n",
    "# circle detector returns found circle positions\n",
    "# or an image with markings on circles if in debug mode\n",
    "def track_objects(img, conf, debug=False):\n",
    "    # preprocessing\n",
    "    gray = cv2.cvtColor(img, cv2.COLOR_BGR2GRAY)\n",
    "    blur = cv2.medianBlur(gray, 5)\n",
    "    sharp = cv2.filter2D(blur, -1, kernel)\n",
    "    _, thresh = cv2.threshold(sharp, conf.preprocessing_thresh, 255, cv2.THRESH_BINARY)\n",
    "\n",
    "    # detect circles\n",
    "    circles = cv2.HoughCircles(                               \\\n",
    "        thresh, cv2.HOUGH_GRADIENT, 1, conf.min_dist,         \\\n",
    "        param1=conf.hi_thresh, param2=conf.acc_thresh,        \\\n",
    "        minRadius=conf.min_radius, maxRadius=conf.max_radius  \\\n",
    "    ) \n",
    "    if not debug:\n",
    "        return circles  # can be None\n",
    "    if circles is None:\n",
    "        return thresh   # no circles to draw\n",
    "\n",
    "    # draw circles\n",
    "    circles = np.uint16(np.around(circles))\n",
    "    res = cv2.cvtColor(thresh, cv2.COLOR_GRAY2BGR)\n",
    "    for i in circles[0,:]:\n",
    "        cv2.circle(res, (i[0],i[1]), i[2], (0,255,0), 2)\n",
    "        cv2.circle(res, (i[0],i[1]), 2, (0,0,255), 3)\n",
    "    return res"
   ]
  },
  {
   "cell_type": "markdown",
   "id": "078aaa55-8ced-4a5b-b06a-db04ae05f020",
   "metadata": {},
   "source": [
    "## Detection Configuration\n",
    "Using the sliders from the cell below, you can create a configuration for the detection algorithm to suit your specific needs. Of course, your configuration is restricted to a certain domain using only these 6 parameters. Luckily, openCV provides a lot of documentation and tutorials, so don't be afraid to get your hands dirty!"
   ]
  },
  {
   "cell_type": "code",
   "execution_count": 11,
   "id": "ed54cdb6-58d9-4184-a364-64e30eb3a2a5",
   "metadata": {},
   "outputs": [
    {
     "data": {
      "application/vnd.jupyter.widget-view+json": {
       "model_id": "1ae90fa2590e48e5853e04fd75b0fede",
       "version_major": 2,
       "version_minor": 0
      },
      "text/plain": [
       "VBox(children=(IntSlider(value=10, description='min_dist'), IntSlider(value=50, description='hi_thresh'), IntS…"
      ]
     },
     "metadata": {},
     "output_type": "display_data"
    },
    {
     "data": {
      "application/vnd.jupyter.widget-view+json": {
       "model_id": "1c44d97b4361476492e472f22accd0b4",
       "version_major": 2,
       "version_minor": 0
      },
      "text/plain": [
       "Button(description='Save Config', style=ButtonStyle())"
      ]
     },
     "metadata": {},
     "output_type": "display_data"
    },
    {
     "data": {
      "application/vnd.jupyter.widget-view+json": {
       "model_id": "98fb6f09400744bbaec7c0e0cec079d5",
       "version_major": 2,
       "version_minor": 0
      },
      "text/plain": [
       "Output()"
      ]
     },
     "metadata": {},
     "output_type": "display_data"
    }
   ],
   "source": [
    "# path to read selected frame from\n",
    "global frame_path\n",
    "\n",
    "# create a default configuration\n",
    "config = HoughConfig()\n",
    "\n",
    "# gets called each time a slider value changes\n",
    "def slider_callback(change):\n",
    "    global img\n",
    "    with out:\n",
    "        out.clear_output()\n",
    "        # update config\n",
    "        setattr(config, change.owner.description, change.new)\n",
    "        \n",
    "        # apply tracking\n",
    "        unmarked = cv2.imread(frame_path)\n",
    "        marked = track_objects(unmarked, config, True)\n",
    "        marked = cv2.cvtColor(marked, cv2.COLOR_BGR2RGB)\n",
    "        \n",
    "        # show image\n",
    "        plt.axis('off')\n",
    "        plt.imshow(marked)\n",
    "        plt.tight_layout()\n",
    "        plt.show()\n",
    "\n",
    "# gets called each time button gets pressed\n",
    "def button_callback(_):\n",
    "    for s, f in zip(sliders, fields(HoughConfig)):\n",
    "        setattr(config, field.name, s.value)\n",
    "    with out:\n",
    "        out.clear_output()\n",
    "        print('Config Updated')\n",
    "        \n",
    "# ui elements\n",
    "sliders = []\n",
    "button = Button(description='Save Config')\n",
    "\n",
    "# TODO: fix proper range per slider\n",
    "# one slider for each field in our config\n",
    "for field in fields(HoughConfig):\n",
    "    # create slider\n",
    "    slider = IntSlider(\n",
    "        value=getattr(config, field.name),\n",
    "        min=0,\n",
    "        max=100,  # Adjust max value as needed\n",
    "        step=1,\n",
    "        description=field.name\n",
    "    )\n",
    "    # Register the callback with each slider\n",
    "    slider.observe(slider_callback, 'value')\n",
    "    sliders.append(slider)\n",
    "\n",
    "# register button callback\n",
    "button.on_click(button_callback)\n",
    "\n",
    "out = Output()\n",
    "display(VBox(sliders), button)\n",
    "\n",
    "# display callback output\n",
    "out"
   ]
  },
  {
   "cell_type": "markdown",
   "id": "95178c8f-3262-4bef-bfe3-6e1f3735cb90",
   "metadata": {},
   "source": [
    "## Cache Frames\n",
    "Get array of frames for processing convenience.\n",
    "NB: This caches the entire video; try to keep your recordings as short as possible"
   ]
  },
  {
   "cell_type": "code",
   "execution_count": 12,
   "id": "86f23c6d-fdff-42ce-b40e-649c1f5eb781",
   "metadata": {},
   "outputs": [
    {
     "name": "stderr",
     "output_type": "stream",
     "text": [
      "ffmpeg version 5.1.4-0+rpt1+deb12u1 Copyright (c) 2000-2023 the FFmpeg developers\n",
      "  built with gcc 12 (Debian 12.2.0-14)\n",
      "  configuration: --prefix=/usr --extra-version=0+rpt1+deb12u1 --toolchain=hardened --incdir=/usr/include/aarch64-linux-gnu --enable-gpl --disable-stripping --disable-mmal --enable-gnutls --enable-ladspa --enable-libaom --enable-libass --enable-libbluray --enable-libbs2b --enable-libcaca --enable-libcdio --enable-libcodec2 --enable-libdav1d --enable-libflite --enable-libfontconfig --enable-libfreetype --enable-libfribidi --enable-libglslang --enable-libgme --enable-libgsm --enable-libjack --enable-libmp3lame --enable-libmysofa --enable-libopenjpeg --enable-libopenmpt --enable-libopus --enable-libpulse --enable-librabbitmq --enable-librist --enable-librubberband --enable-libshine --enable-libsnappy --enable-libsoxr --enable-libspeex --enable-libsrt --enable-libssh --enable-libsvtav1 --enable-libtheora --enable-libtwolame --enable-libvidstab --enable-libvorbis --enable-libvpx --enable-libwebp --enable-libx265 --enable-libxml2 --enable-libxvid --enable-libzimg --enable-libzmq --enable-libzvbi --enable-lv2 --enable-omx --enable-openal --enable-opencl --enable-opengl --enable-sand --enable-sdl2 --disable-sndio --enable-libjxl --enable-neon --enable-v4l2-request --enable-libudev --enable-epoxy --libdir=/usr/lib/aarch64-linux-gnu --arch=arm64 --enable-pocketsphinx --enable-librsvg --enable-libdc1394 --enable-libdrm --enable-vout-drm --enable-libiec61883 --enable-chromaprint --enable-frei0r --enable-libx264 --enable-libplacebo --enable-librav1e --enable-shared\n",
      "  libavutil      57. 28.100 / 57. 28.100\n",
      "  libavcodec     59. 37.100 / 59. 37.100\n",
      "  libavformat    59. 27.100 / 59. 27.100\n",
      "  libavdevice    59.  7.100 / 59.  7.100\n",
      "  libavfilter     8. 44.100 /  8. 44.100\n",
      "  libswscale      6.  7.100 /  6.  7.100\n",
      "  libswresample   4.  7.100 /  4.  7.100\n",
      "  libpostproc    56.  6.100 / 56.  6.100\n",
      "Input #0, h264, from 'data/recording_0325_01:41_000.h264':\n",
      "  Duration: N/A, bitrate: N/A\n",
      "  Stream #0:0: Video: h264 (High), yuv420p(progressive), 768x432, 100 fps, 100 tbr, 1200k tbn\n",
      "Stream mapping:\n",
      "  Stream #0:0 -> #0:0 (h264 (native) -> rawvideo (native))\n",
      "Press [q] to stop, [?] for help\n",
      "[swscaler @ 0x55bf0b6390] [swscaler @ 0x55bf378ca0] No accelerated colorspace conversion found from yuv420p to rgb24.\n",
      "[swscaler @ 0x55bf0b6390] [swscaler @ 0x55bf390480] No accelerated colorspace conversion found from yuv420p to rgb24.\n",
      "[swscaler @ 0x55bf0b6390] [swscaler @ 0x55bf690ef0] No accelerated colorspace conversion found from yuv420p to rgb24.\n",
      "[swscaler @ 0x55bf0b6390] [swscaler @ 0x55bf6a9fa0] No accelerated colorspace conversion found from yuv420p to rgb24.\n",
      "[swscaler @ 0x55bf0b6390] [swscaler @ 0x55bf6c1780] No accelerated colorspace conversion found from yuv420p to rgb24.\n",
      "Output #0, rawvideo, to 'pipe:':\n",
      "  Metadata:\n",
      "    encoder         : Lavf59.27.100\n",
      "  Stream #0:0: Video: rawvideo (RGB[24] / 0x18424752), rgb24(pc, gbr/unknown/unknown, progressive), 768x432, q=2-31, 796262 kb/s, 100 fps, 100 tbn\n",
      "    Metadata:\n",
      "      encoder         : Lavc59.37.100 rawvideo\n",
      "frame=  871 fps=173 q=-0.0 size=  844668kB time=00:00:08.69 bitrate=796262.4kbits/s speed=1.72x    \r"
     ]
    },
    {
     "name": "stdout",
     "output_type": "stream",
     "text": [
      "done\n"
     ]
    },
    {
     "name": "stderr",
     "output_type": "stream",
     "text": [
      "frame=  937 fps=172 q=-0.0 Lsize=  910764kB time=00:00:09.37 bitrate=796262.4kbits/s speed=1.72x    \n",
      "video:910764kB audio:0kB subtitle:0kB other streams:0kB global headers:0kB muxing overhead: 0.000000%\n"
     ]
    }
   ],
   "source": [
    "global path\n",
    "\n",
    "# let ffmpeg write raw video to pipe\n",
    "out, _ = (\n",
    "    ffmpeg\n",
    "    .input(path + '.h264')\n",
    "    .output('pipe:', format='rawvideo', pix_fmt='rgb24')\n",
    "    .run(capture_stdout=True)\n",
    ")\n",
    "\n",
    "# capture from pipe\n",
    "video = (\n",
    "    np\n",
    "    .frombuffer(out, dtype=np.uint8)\n",
    "    .reshape([-1, height, width, 3])\n",
    ")\n",
    "print('done')"
   ]
  },
  {
   "cell_type": "markdown",
   "id": "cbb36e85",
   "metadata": {},
   "source": [
    "## Pixel to Real Distance Conversion\n",
    "This conversion assumes that every point of interest is located on the plane on which the camera is focused."
   ]
  },
  {
   "cell_type": "code",
   "execution_count": 13,
   "id": "13689b22",
   "metadata": {},
   "outputs": [],
   "source": [
    "# these values are specific to this camera; do not change them unless using a different camera\n",
    "horizontal_fov = 66 * math.pi / 180\n",
    "vertical_fov = 41 * math.pi / 180\n",
    "\n",
    "# camera distance to plane in meters; verify this yourself!\n",
    "camera_dist = 0.75\n",
    "\n",
    "# physical dimensions of our frame\n",
    "frame_width = math.tan(horizontal_fov / 2) * camera_dist\n",
    "frame_height = math.tan(vertical_fov / 2) * camera_dist\n",
    "\n",
    "# convert given pixel coordinates to real world; uses upper-left corner as origin\n",
    "def pixel_to_real_distance(x, y):\n",
    "    global width, height\n",
    "    return x / width * frame_width, y / height * frame_height"
   ]
  },
  {
   "cell_type": "markdown",
   "id": "90db8ea3-2f04-4066-a3ae-c5482da2e355",
   "metadata": {},
   "source": [
    "## Frame Sanitization and Tracking\n",
    "In this cell it is possible to gather tracking information for each frame of the video that gets cached above. By default, a subset of all frames that contain tracking points will be collected. This subset will then be made available for further manual cleanup. "
   ]
  },
  {
   "cell_type": "code",
   "execution_count": 14,
   "id": "19514dcb-2986-43b4-880c-1d522a3214ff",
   "metadata": {},
   "outputs": [
    {
     "data": {
      "application/vnd.jupyter.widget-view+json": {
       "model_id": "471d2b19b1784b08b8534c87c2782cf4",
       "version_major": 2,
       "version_minor": 0
      },
      "text/plain": [
       "IntSlider(value=0, max=40)"
      ]
     },
     "metadata": {},
     "output_type": "display_data"
    },
    {
     "data": {
      "application/vnd.jupyter.widget-view+json": {
       "model_id": "a1c0ff26c61e4338b5e668c96dc7b0b7",
       "version_major": 2,
       "version_minor": 0
      },
      "text/plain": [
       "Button(description='Remove Frame', style=ButtonStyle())"
      ]
     },
     "metadata": {},
     "output_type": "display_data"
    },
    {
     "data": {
      "application/vnd.jupyter.widget-view+json": {
       "model_id": "c1b6eaa70db34cb3b3f156ad6a7529e3",
       "version_major": 2,
       "version_minor": 0
      },
      "text/plain": [
       "Output()"
      ]
     },
     "metadata": {},
     "output_type": "display_data"
    }
   ],
   "source": [
    "global config\n",
    "global path\n",
    "\n",
    "# metadata class for tracked objects in frames\n",
    "@dataclass\n",
    "class TrackingPoint:\n",
    "    delta: timedelta = timedelta(0)\n",
    "    frame_index: int = 0\n",
    "    pixel_pos: (int, int) = (0, 0)\n",
    "    real_pos: (int, int) = (0, 0)\n",
    "\n",
    "tracking_points = []\n",
    "\n",
    "# fetch timestamps from recording\n",
    "with open(path + '.pts') as file:\n",
    "    timestamps = file.readlines()[1:]\n",
    "\n",
    "# get metadata for each frame where objects were detected\n",
    "for i, frame in enumerate(video):\n",
    "    circles = track_objects(frame, config)\n",
    "    if circles is not None:\n",
    "        for c in circles:\n",
    "            p = TrackingPoint()\n",
    "            p.delta = timedelta(milliseconds=float(timestamps[i]))\n",
    "            p.frame_index = i\n",
    "            p.pixel_pos = (c[0][0], c[0][1])\n",
    "            p.real_pos = (pixel_to_real_distance(c[0][0], c[0][1]))\n",
    "            tracking_points.append(p)\n",
    "\n",
    "# get a subset of frames which has only non-empty frames\n",
    "frame_subset = []\n",
    "for p in tracking_points:\n",
    "    frame_subset.append(video[p.frame_index])\n",
    "nr_frames = len(frame_subset)\n",
    "\n",
    "# ui elements\n",
    "slider = IntSlider(min=0, max=nr_frames - 1, step=1, readout=True)\n",
    "button = Button(description='Remove Frame')\n",
    "out = Output()\n",
    "display(slider, button)\n",
    "\n",
    "# gets called each time slider value changes\n",
    "def slider_callback(change):\n",
    "    with out:\n",
    "        out.clear_output()\n",
    "        plt.axis('off')\n",
    "        plt.imshow(frame_subset[change['new']])\n",
    "        plt.tight_layout()\n",
    "        plt.show()\n",
    "\n",
    "# gets called each time button gets pressed\n",
    "def button_callback(_):\n",
    "    frame_subset.pop(slider.value)\n",
    "    tracking_points.pop(slider.value)\n",
    "    slider.max -= 1\n",
    "    slider_callback({ 'new': slider.value })\n",
    "\n",
    "# register callback functions\n",
    "slider.observe(slider_callback, names='value')\n",
    "button.on_click(button_callback)\n",
    "\n",
    "# display callback output\n",
    "out"
   ]
  },
  {
   "cell_type": "markdown",
   "id": "d696f29b-ab41-46e5-b618-f8fee4b08096",
   "metadata": {},
   "source": [
    "## Data Export\n",
    "This cell converts the list of tracking points created earlier to csv data, and writes it to disk"
   ]
  },
  {
   "cell_type": "code",
   "execution_count": 15,
   "id": "550fb9a4-3c7a-446e-a702-10b924d857bf",
   "metadata": {},
   "outputs": [
    {
     "data": {
      "text/html": [
       "<div>\n",
       "<style scoped>\n",
       "    .dataframe tbody tr th:only-of-type {\n",
       "        vertical-align: middle;\n",
       "    }\n",
       "\n",
       "    .dataframe tbody tr th {\n",
       "        vertical-align: top;\n",
       "    }\n",
       "\n",
       "    .dataframe thead th {\n",
       "        text-align: right;\n",
       "    }\n",
       "</style>\n",
       "<table border=\"1\" class=\"dataframe\">\n",
       "  <thead>\n",
       "    <tr style=\"text-align: right;\">\n",
       "      <th></th>\n",
       "      <th>time</th>\n",
       "      <th>x_pos</th>\n",
       "      <th>y_pos</th>\n",
       "    </tr>\n",
       "  </thead>\n",
       "  <tbody>\n",
       "    <tr>\n",
       "      <th>0</th>\n",
       "      <td>4791.741</td>\n",
       "      <td>0.233064</td>\n",
       "      <td>0.020447</td>\n",
       "    </tr>\n",
       "    <tr>\n",
       "      <th>1</th>\n",
       "      <td>4801.724</td>\n",
       "      <td>0.233698</td>\n",
       "      <td>0.043166</td>\n",
       "    </tr>\n",
       "    <tr>\n",
       "      <th>2</th>\n",
       "      <td>4811.707</td>\n",
       "      <td>0.233064</td>\n",
       "      <td>0.066533</td>\n",
       "    </tr>\n",
       "    <tr>\n",
       "      <th>3</th>\n",
       "      <td>4821.690</td>\n",
       "      <td>0.234966</td>\n",
       "      <td>0.090550</td>\n",
       "    </tr>\n",
       "    <tr>\n",
       "      <th>4</th>\n",
       "      <td>4841.654</td>\n",
       "      <td>0.234332</td>\n",
       "      <td>0.142479</td>\n",
       "    </tr>\n",
       "  </tbody>\n",
       "</table>\n",
       "</div>"
      ],
      "text/plain": [
       "       time     x_pos     y_pos\n",
       "0  4791.741  0.233064  0.020447\n",
       "1  4801.724  0.233698  0.043166\n",
       "2  4811.707  0.233064  0.066533\n",
       "3  4821.690  0.234966  0.090550\n",
       "4  4841.654  0.234332  0.142479"
      ]
     },
     "execution_count": 15,
     "metadata": {},
     "output_type": "execute_result"
    },
    {
     "data": {
      "image/png": "[encoded data removed]",
      "text/plain": [
       "<Figure size 640x480 with 1 Axes>"
      ]
     },
     "metadata": {},
     "output_type": "display_data"
    }
   ],
   "source": [
    "global path\n",
    "csv_path = path + '.csv'\n",
    "\n",
    "# create and populate csv instance\n",
    "def make_csv(path, points):\n",
    "    with open(path, 'w', newline='') as file:\n",
    "        writer = csv.writer(file, delimiter=',')\n",
    "        writer.writerow(['time', 'x_pos', 'y_pos'])\n",
    "        for p in points:\n",
    "            writer.writerow([p.delta / timedelta(milliseconds=1), p.real_pos[0], p.real_pos[1]])\n",
    "\n",
    "# display plot\n",
    "make_csv(csv_path, tracking_points)\n",
    "df = pd.read_csv(csv_path)\n",
    "plt.plot(df.time, df.y_pos)\n",
    "df.head(5)"
   ]
  },
  {
   "cell_type": "markdown",
   "id": "a0ffff85-7362-4cae-8f3d-e7302b14d6ec",
   "metadata": {},
   "source": [
    "## TODO\n",
    "better naming;\n",
    "more use of macros/constants where possible;\n",
    "make contour tracker;\n",
    "csv writer;\n",
    "import matplotlib fails first try after adding pandas"
   ]
  }
 ],
 "metadata": {
  "kernelspec": {
   "display_name": "Python 3 (ipykernel)",
   "language": "python",
   "name": "python3"
  },
  "language_info": {
   "codemirror_mode": {
    "name": "ipython",
    "version": 3
   },
   "file_extension": ".py",
   "mimetype": "text/x-python",
   "name": "python",
   "nbconvert_exporter": "python",
   "pygments_lexer": "ipython3",
   "version": "3.11.2"
  }
 },
 "nbformat": 4,
 "nbformat_minor": 5
}
