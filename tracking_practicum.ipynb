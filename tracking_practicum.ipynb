{
 "cells": [
  {
   "cell_type": "markdown",
   "id": "684bbff2-8ad5-4010-9616-926de41772ed",
   "metadata": {},
   "source": [
    "# IPyTracker\n",
    "Jupyter Notebook to perform circle detection, tracking, and analysis."
   ]
  },
  {
   "cell_type": "code",
   "execution_count": 1,
   "id": "4ffc637d-bc73-4a02-9087-1f9d99f398f7",
   "metadata": {},
   "outputs": [],
   "source": [
    "from ipywidgets import Video, Image, FloatSlider, IntSlider, Button, Output, VBox\n",
    "from IPython.display import display\n",
    "from dataclasses import dataclass, fields\n",
    "%matplotlib inline \n",
    "from matplotlib import pyplot as plt\n",
    "import numpy as np\n",
    "import time\n",
    "import os\n",
    "import cv2\n",
    "import ffmpeg\n",
    "import io\n",
    "import subprocess"
   ]
  },
  {
   "cell_type": "markdown",
   "id": "87594164-7c0e-43e8-8e67-7f17a6ab042a",
   "metadata": {},
   "source": [
    "## Single Image Capture\n",
    "The below cell captures, saves, and displays a single image. You might find this useful for positioning your camera correctly. Alternatively, use a program of your own choice to display a preview window."
   ]
  },
  {
   "cell_type": "code",
   "execution_count": 2,
   "id": "e6021687-af6b-4cc0-81b0-fa4c2e80ab43",
   "metadata": {},
   "outputs": [
    {
     "data": {
      "application/vnd.jupyter.widget-view+json": {
       "model_id": "432902e9f5bf40cd8276112b357cb64d",
       "version_major": 2,
       "version_minor": 0
      },
      "text/plain": [
       "Image(value=b'\\x89PNG\\r\\n\\x1a\\n\\x00\\x00\\x00\\rIHDR\\x00\\x00\\x03\\x00\\x00\\x00\\x01\\xb0\\x08\\x02\\x00\\x00\\x00\\x91\\xb6\\…"
      ]
     },
     "execution_count": 2,
     "metadata": {},
     "output_type": "execute_result"
    }
   ],
   "source": [
    "# path to write image to\n",
    "path = 'data/still.png'\n",
    "\n",
    "# capture image\n",
    "os.system(f'libcamera-still --width 768 --height 432 --immediate -n -e png -o {path} 2>/dev/null')\n",
    "\n",
    "# display image\n",
    "img = Image.from_file(path)\n",
    "img"
   ]
  },
  {
   "cell_type": "markdown",
   "id": "1e7235e3-a4f3-43c8-a1ed-3b1d9a553959",
   "metadata": {},
   "source": [
    "## Video Capture\n",
    "Below cell captures video, converts it to the mp4 format, and displays it in a loop. Additionally, timestamps are also saved per frame."
   ]
  },
  {
   "cell_type": "code",
   "execution_count": 3,
   "id": "26b5c4f0-9b35-4a8e-898d-9c1062754001",
   "metadata": {},
   "outputs": [
    {
     "name": "stdout",
     "output_type": "stream",
     "text": [
      "starting video capture\n",
      "starting video conversion\n"
     ]
    },
    {
     "data": {
      "application/vnd.jupyter.widget-view+json": {
       "model_id": "97b8216ef937406e93632a9940e61251",
       "version_major": 2,
       "version_minor": 0
      },
      "text/plain": [
       "Video(value=b'\\x00\\x00\\x00 ftypisom\\x00\\x00\\x02\\x00isomiso2avc1mp41\\x00\\x00\\x00\\x08free...')"
      ]
     },
     "execution_count": 3,
     "metadata": {},
     "output_type": "execute_result"
    }
   ],
   "source": [
    "# video capture settings\n",
    "path = 'data/recording'  # no file extension in path\n",
    "length = 10000           # video capture duration\n",
    "focus = 0.75             # lens distance to focus point in meters\n",
    "width = 768              # frame width\n",
    "height = 432             # frame height\n",
    "shutter = 750            # exposure time in us\n",
    "gain = 1.5               # gain to apply to image\n",
    "fps = 100                # capture framerate\n",
    "\n",
    "# specify options for video recording\n",
    "flags = f'--width {width} --height {height} --shutter {shutter} -t {length} -n --gain {gain} --denoise cdn_off --level 4.2 --framerate {fps} --autofocus-mode manual --lens-position {1 / focus}'\n",
    "\n",
    "# capture video\n",
    "os.system('echo \"starting video capture\"')\n",
    "os.system(f'libcamera-vid {flags} --save-pts {path}.pts -o {path}.h264 -n 2>/dev/null')\n",
    "\n",
    "# convert .h264 to .mp4\n",
    "os.system('echo \"starting video conversion\"')\n",
    "os.system(f'ffmpeg -y -i {path}.h264 {path}.mp4 2>/dev/null')\n",
    "\n",
    "# display video\n",
    "vid = Video.from_file(f'{path}.mp4')\n",
    "vid"
   ]
  },
  {
   "cell_type": "markdown",
   "id": "0393c712-1f58-4268-b148-7c208277412c",
   "metadata": {},
   "source": [
    "## Single Frame Selection\n",
    "This cell allows you to select a single frame from your video. This can be very useful in order to finetune your configuration for the circle detection algorithm. Again, use any other tool if this is not your preferred method.\n",
    "Hint: single-click the slider and use the arrow keys for precise scrolling."
   ]
  },
  {
   "cell_type": "code",
   "execution_count": 4,
   "id": "aa6acc32-8e08-4612-a195-809093066414",
   "metadata": {},
   "outputs": [
    {
     "name": "stdout",
     "output_type": "stream",
     "text": [
      "937.0\n"
     ]
    },
    {
     "data": {
      "application/vnd.jupyter.widget-view+json": {
       "model_id": "1bf47ee19b7e4640847e70920e94f3df",
       "version_major": 2,
       "version_minor": 0
      },
      "text/plain": [
       "FloatSlider(value=0.0, max=1.0, step=0.005)"
      ]
     },
     "metadata": {},
     "output_type": "display_data"
    },
    {
     "data": {
      "application/vnd.jupyter.widget-view+json": {
       "model_id": "ac47c0f4cd974b60bb8620592be5541c",
       "version_major": 2,
       "version_minor": 0
      },
      "text/plain": [
       "Button(description='Save Frame', style=ButtonStyle())"
      ]
     },
     "metadata": {},
     "output_type": "display_data"
    },
    {
     "data": {
      "application/vnd.jupyter.widget-view+json": {
       "model_id": "4cb0831cf99a4a37a21c696d4df7ddb1",
       "version_major": 2,
       "version_minor": 0
      },
      "text/plain": [
       "Output()"
      ]
     },
     "execution_count": 4,
     "metadata": {},
     "output_type": "execute_result"
    }
   ],
   "source": [
    "# path to source video\n",
    "video_path = 'data/recording.mp4'\n",
    "\n",
    "# path to write selected frame to\n",
    "frame_path = 'data/frame.png'\n",
    "\n",
    "# our image byte array\n",
    "img = np.ndarray((1,1,1))\n",
    "\n",
    "# calculate number of frames in video\n",
    "cap = cv2.VideoCapture(video_path)\n",
    "nr_frames = cap.get(cv2.CAP_PROP_FRAME_COUNT)\n",
    "print(nr_frames)\n",
    "\n",
    "# ui elements\n",
    "slider = FloatSlider(min=0, max=1.0, step=0.005)\n",
    "button = Button(description='Save Frame')\n",
    "out = Output()\n",
    "display(slider, button)\n",
    "\n",
    "# gets called each time slider value changes\n",
    "def slider_callback(change):\n",
    "    global img\n",
    "    with out:\n",
    "        out.clear_output()\n",
    "        frame_nr = int(change['new'] * nr_frames)\n",
    "        cap.set(cv2.CAP_PROP_POS_FRAMES, frame_nr)\n",
    "        ret, img = cap.read()\n",
    "        if ret:\n",
    "            img = cv2.cvtColor(img, cv2.COLOR_BGR2RGB)\n",
    "            plt.axis('off')\n",
    "            plt.imshow(img)\n",
    "            plt.tight_layout()\n",
    "            plt.show()\n",
    "\n",
    "# gets called each time button gets pressed\n",
    "def button_callback(_):\n",
    "    global img\n",
    "    with out:\n",
    "        img = cv2.cvtColor(img, cv2.COLOR_RGB2BGR)\n",
    "        cv2.imwrite(frame_path, img)\n",
    "        print('image saved')\n",
    "    \n",
    "\n",
    "# register callback functions\n",
    "slider.observe(slider_callback, names='value')\n",
    "button.on_click(button_callback)\n",
    "\n",
    "# display callback output\n",
    "out"
   ]
  },
  {
   "cell_type": "markdown",
   "id": "d7d58638-5ea2-4eee-8041-2b31fe795dc4",
   "metadata": {},
   "source": [
    "## Circle Detection Algorithm\n",
    "The actual circle detection algorithm. For more info on the meaning of the config fields, please refer to the openCV documentation.\n",
    "Right now, this only function only returns a marked image. CSV ouput will be added in the future."
   ]
  },
  {
   "cell_type": "code",
   "execution_count": 5,
   "id": "29497e1a-ac2e-4280-b84e-49d94814f7cb",
   "metadata": {},
   "outputs": [],
   "source": [
    "# sharpening kernel\n",
    "kernel = np.array([ \\\n",
    "    [0, -1, 0],     \\\n",
    "    [-1, 5, -1],    \\\n",
    "    [0, -1, 0]      \\\n",
    "])\n",
    "\n",
    "# hough detection configuration\n",
    "@dataclass\n",
    "class HoughConfig:\n",
    "    min_dist: int = 10\n",
    "    hi_thresh: int = 50\n",
    "    acc_thresh: int = 30\n",
    "    min_radius: int = 10\n",
    "    max_radius: int = 0\n",
    "    preprocessing_thresh: int = 80\n",
    "\n",
    "# circle detector returns found circle positions\n",
    "# or an image with markings on circles if in debug mode\n",
    "def track_objects(img, conf, debug=False):\n",
    "    # preprocessing\n",
    "    gray = cv2.cvtColor(img, cv2.COLOR_BGR2GRAY)\n",
    "    blur = cv2.medianBlur(gray, 5)\n",
    "    sharp = cv2.filter2D(blur, -1, kernel)\n",
    "    _, thresh = cv2.threshold(sharp, conf.preprocessing_thresh, 255, cv2.THRESH_BINARY)\n",
    "\n",
    "    # detect circles\n",
    "    circles = cv2.HoughCircles(                               \\\n",
    "        thresh, cv2.HOUGH_GRADIENT, 1, conf.min_dist,         \\\n",
    "        param1=conf.hi_thresh, param2=conf.acc_thresh,        \\\n",
    "        minRadius=conf.min_radius, maxRadius=conf.max_radius  \\\n",
    "    )\n",
    "    if circles is None:\n",
    "        return thresh if debug else None\n",
    "    if not debug:\n",
    "        return circles\n",
    "\n",
    "    # draw circles\n",
    "    circles = np.uint16(np.around(circles))\n",
    "    res = cv2.cvtColor(thresh, cv2.COLOR_GRAY2BGR)\n",
    "    for i in circles[0,:]:\n",
    "        cv2.circle(res, (i[0],i[1]), i[2], (0,255,0), 2)\n",
    "        cv2.circle(res, (i[0],i[1]), 2, (0,0,255), 3)\n",
    "    return res"
   ]
  },
  {
   "cell_type": "markdown",
   "id": "078aaa55-8ced-4a5b-b06a-db04ae05f020",
   "metadata": {},
   "source": [
    "## Detection Configuration\n",
    "Using the sliders from the cell below, you can create a configuration for the detection algorithm to suit your specific needs. Of course, your configuration is restricted to a certain domain using only these 6 parameters. Luckily, openCV provides a lot of documentation and tutorials, so don't be afraid to get your hands dirty!"
   ]
  },
  {
   "cell_type": "code",
   "execution_count": 6,
   "id": "ed54cdb6-58d9-4184-a364-64e30eb3a2a5",
   "metadata": {},
   "outputs": [
    {
     "data": {
      "application/vnd.jupyter.widget-view+json": {
       "model_id": "e59b67d9136e4c989bf985760f5b501b",
       "version_major": 2,
       "version_minor": 0
      },
      "text/plain": [
       "VBox(children=(IntSlider(value=10, description='min_dist'), IntSlider(value=50, description='hi_thresh'), IntS…"
      ]
     },
     "metadata": {},
     "output_type": "display_data"
    },
    {
     "data": {
      "application/vnd.jupyter.widget-view+json": {
       "model_id": "fcf0c332fb284cfab8ab602d0be2508a",
       "version_major": 2,
       "version_minor": 0
      },
      "text/plain": [
       "Button(description='Save Config', style=ButtonStyle())"
      ]
     },
     "metadata": {},
     "output_type": "display_data"
    },
    {
     "data": {
      "application/vnd.jupyter.widget-view+json": {
       "model_id": "8f6b119823bc4ca7ae2713afc5beec3d",
       "version_major": 2,
       "version_minor": 0
      },
      "text/plain": [
       "Output()"
      ]
     },
     "execution_count": 6,
     "metadata": {},
     "output_type": "execute_result"
    }
   ],
   "source": [
    "# path to read selected frame from\n",
    "frame_path = 'data/frame.png'\n",
    "\n",
    "# create a default configuration\n",
    "config = HoughConfig()\n",
    "\n",
    "# gets called each time a slider value changes\n",
    "def slider_callback(change):\n",
    "    global img\n",
    "    with out:\n",
    "        out.clear_output()\n",
    "        # update config\n",
    "        setattr(config, change.owner.description, change.new)\n",
    "        \n",
    "        # apply tracking\n",
    "        unmarked = cv2.imread(frame_path)\n",
    "        marked = track_objects(unmarked, config, True)\n",
    "        marked = cv2.cvtColor(marked, cv2.COLOR_BGR2RGB)\n",
    "        \n",
    "        # show image\n",
    "        plt.axis('off')\n",
    "        plt.imshow(marked)\n",
    "        plt.tight_layout()\n",
    "        plt.show()\n",
    "\n",
    "# gets called each time button gets pressed\n",
    "def button_callback(_):\n",
    "    for s, f in zip(sliders, fields(HoughConfig)):\n",
    "        setattr(config, field.name, s.value)\n",
    "    with out:\n",
    "        out.clear_output()\n",
    "        print('Config Updated')\n",
    "        \n",
    "# ui elements\n",
    "sliders = []\n",
    "button = Button(description='Save Config')\n",
    "\n",
    "# TODO: fix proper range per slider\n",
    "# one slider for each field in our config\n",
    "for field in fields(HoughConfig):\n",
    "    # create slider\n",
    "    slider = IntSlider(\n",
    "        value=getattr(config, field.name),\n",
    "        min=0,\n",
    "        max=100,  # Adjust max value as needed\n",
    "        step=1,\n",
    "        description=field.name\n",
    "    )\n",
    "    # Register the callback with each slider\n",
    "    slider.observe(slider_callback, 'value')\n",
    "    sliders.append(slider)\n",
    "\n",
    "# register button callback\n",
    "button.on_click(button_callback)\n",
    "\n",
    "out = Output()\n",
    "display(VBox(sliders), button)\n",
    "\n",
    "# display callback output\n",
    "out"
   ]
  },
  {
   "cell_type": "markdown",
   "id": "95178c8f-3262-4bef-bfe3-6e1f3735cb90",
   "metadata": {},
   "source": [
    "## Cache frames\n",
    "Get array of frames for processing convenience.\n",
    "NB: Don't rerun this without restarting the kernel; it caches the entire video"
   ]
  },
  {
   "cell_type": "code",
   "execution_count": 7,
   "id": "86f23c6d-fdff-42ce-b40e-649c1f5eb781",
   "metadata": {},
   "outputs": [
    {
     "name": "stderr",
     "output_type": "stream",
     "text": [
      "ffmpeg version 4.3.6-0+deb11u1+rpt5 Copyright (c) 2000-2023 the FFmpeg developers\n",
      "  built with gcc 10 (Raspbian 10.2.1-6+rpi1)\n",
      "  configuration: --prefix=/usr --extra-version=0+deb11u1+rpt5 --toolchain=hardened --incdir=/usr/include/arm-linux-gnueabihf --enable-gpl --disable-stripping --enable-avresample --disable-filter=resample --enable-gnutls --enable-ladspa --enable-libaom --enable-libass --enable-libbluray --enable-libbs2b --enable-libcaca --enable-libcdio --enable-libcodec2 --enable-libdav1d --enable-libflite --enable-libfontconfig --enable-libfreetype --enable-libfribidi --enable-libgme --enable-libgsm --enable-libjack --enable-libmp3lame --enable-libmysofa --enable-libopenjpeg --enable-libopenmpt --enable-libopus --enable-libpulse --enable-librabbitmq --enable-librsvg --enable-librubberband --enable-libshine --enable-libsnappy --enable-libsoxr --enable-libspeex --enable-libsrt --enable-libssh --enable-libtheora --enable-libtwolame --enable-libvidstab --enable-libvorbis --enable-libvpx --enable-libwavpack --enable-libwebp --enable-libx265 --enable-libxml2 --enable-libxvid --enable-libzmq --enable-libzvbi --enable-lv2 --enable-omx --enable-openal --enable-opencl --enable-opengl --enable-sdl2 --enable-mmal --enable-neon --enable-rpi --enable-v4l2-request --enable-libudev --enable-epoxy --enable-pocketsphinx --enable-libdc1394 --enable-libdrm --enable-vout-drm --enable-libiec61883 --enable-chromaprint --enable-frei0r --enable-libx264 --enable-shared --libdir=/usr/lib/arm-linux-gnueabihf --cpu=arm1176jzf-s --arch=arm\n",
      "  WARNING: library configuration mismatch\n",
      "  avutil      configuration: --prefix=/usr --extra-version=0+deb11u1+rpt5 --toolchain=hardened --incdir=/usr/include/arm-linux-gnueabihf --enable-gpl --disable-stripping --enable-avresample --disable-filter=resample --enable-gnutls --enable-ladspa --enable-libaom --enable-libass --enable-libbluray --enable-libbs2b --enable-libcaca --enable-libcdio --enable-libcodec2 --enable-libdav1d --enable-libflite --enable-libfontconfig --enable-libfreetype --enable-libfribidi --enable-libgme --enable-libgsm --enable-libjack --enable-libmp3lame --enable-libmysofa --enable-libopenjpeg --enable-libopenmpt --enable-libopus --enable-libpulse --enable-librabbitmq --enable-librsvg --enable-librubberband --enable-libshine --enable-libsnappy --enable-libsoxr --enable-libspeex --enable-libsrt --enable-libssh --enable-libtheora --enable-libtwolame --enable-libvidstab --enable-libvorbis --enable-libvpx --enable-libwavpack --enable-libwebp --enable-libx265 --enable-libxml2 --enable-libxvid --enable-libzmq --enable-libzvbi --enable-lv2 --enable-omx --enable-openal --enable-opencl --enable-opengl --enable-sdl2 --enable-mmal --enable-neon --enable-rpi --enable-v4l2-request --enable-libudev --enable-epoxy --enable-pocketsphinx --enable-libdc1394 --enable-libdrm --enable-vout-drm --enable-libiec61883 --enable-chromaprint --enable-frei0r --enable-libx264 --libdir=/usr/lib/arm-linux-gnueabihf/neon/vfp --cpu=cortex-a7 --arch=armv6t2 --disable-thumb --enable-shared --disable-doc --disable-programs\n",
      "  avcodec     configuration: --prefix=/usr --extra-version=0+deb11u1+rpt5 --toolchain=hardened --incdir=/usr/include/arm-linux-gnueabihf --enable-gpl --disable-stripping --enable-avresample --disable-filter=resample --enable-gnutls --enable-ladspa --enable-libaom --enable-libass --enable-libbluray --enable-libbs2b --enable-libcaca --enable-libcdio --enable-libcodec2 --enable-libdav1d --enable-libflite --enable-libfontconfig --enable-libfreetype --enable-libfribidi --enable-libgme --enable-libgsm --enable-libjack --enable-libmp3lame --enable-libmysofa --enable-libopenjpeg --enable-libopenmpt --enable-libopus --enable-libpulse --enable-librabbitmq --enable-librsvg --enable-librubberband --enable-libshine --enable-libsnappy --enable-libsoxr --enable-libspeex --enable-libsrt --enable-libssh --enable-libtheora --enable-libtwolame --enable-libvidstab --enable-libvorbis --enable-libvpx --enable-libwavpack --enable-libwebp --enable-libx265 --enable-libxml2 --enable-libxvid --enable-libzmq --enable-libzvbi --enable-lv2 --enable-omx --enable-openal --enable-opencl --enable-opengl --enable-sdl2 --enable-mmal --enable-neon --enable-rpi --enable-v4l2-request --enable-libudev --enable-epoxy --enable-pocketsphinx --enable-libdc1394 --enable-libdrm --enable-vout-drm --enable-libiec61883 --enable-chromaprint --enable-frei0r --enable-libx264 --libdir=/usr/lib/arm-linux-gnueabihf/neon/vfp --cpu=cortex-a7 --arch=armv6t2 --disable-thumb --enable-shared --disable-doc --disable-programs\n",
      "  avformat    configuration: --prefix=/usr --extra-version=0+deb11u1+rpt5 --toolchain=hardened --incdir=/usr/include/arm-linux-gnueabihf --enable-gpl --disable-stripping --enable-avresample --disable-filter=resample --enable-gnutls --enable-ladspa --enable-libaom --enable-libass --enable-libbluray --enable-libbs2b --enable-libcaca --enable-libcdio --enable-libcodec2 --enable-libdav1d --enable-libflite --enable-libfontconfig --enable-libfreetype --enable-libfribidi --enable-libgme --enable-libgsm --enable-libjack --enable-libmp3lame --enable-libmysofa --enable-libopenjpeg --enable-libopenmpt --enable-libopus --enable-libpulse --enable-librabbitmq --enable-librsvg --enable-librubberband --enable-libshine --enable-libsnappy --enable-libsoxr --enable-libspeex --enable-libsrt --enable-libssh --enable-libtheora --enable-libtwolame --enable-libvidstab --enable-libvorbis --enable-libvpx --enable-libwavpack --enable-libwebp --enable-libx265 --enable-libxml2 --enable-libxvid --enable-libzmq --enable-libzvbi --enable-lv2 --enable-omx --enable-openal --enable-opencl --enable-opengl --enable-sdl2 --enable-mmal --enable-neon --enable-rpi --enable-v4l2-request --enable-libudev --enable-epoxy --enable-pocketsphinx --enable-libdc1394 --enable-libdrm --enable-vout-drm --enable-libiec61883 --enable-chromaprint --enable-frei0r --enable-libx264 --libdir=/usr/lib/arm-linux-gnueabihf/neon/vfp --cpu=cortex-a7 --arch=armv6t2 --disable-thumb --enable-shared --disable-doc --disable-programs\n",
      "  avdevice    configuration: --prefix=/usr --extra-version=0+deb11u1+rpt5 --toolchain=hardened --incdir=/usr/include/arm-linux-gnueabihf --enable-gpl --disable-stripping --enable-avresample --disable-filter=resample --enable-gnutls --enable-ladspa --enable-libaom --enable-libass --enable-libbluray --enable-libbs2b --enable-libcaca --enable-libcdio --enable-libcodec2 --enable-libdav1d --enable-libflite --enable-libfontconfig --enable-libfreetype --enable-libfribidi --enable-libgme --enable-libgsm --enable-libjack --enable-libmp3lame --enable-libmysofa --enable-libopenjpeg --enable-libopenmpt --enable-libopus --enable-libpulse --enable-librabbitmq --enable-librsvg --enable-librubberband --enable-libshine --enable-libsnappy --enable-libsoxr --enable-libspeex --enable-libsrt --enable-libssh --enable-libtheora --enable-libtwolame --enable-libvidstab --enable-libvorbis --enable-libvpx --enable-libwavpack --enable-libwebp --enable-libx265 --enable-libxml2 --enable-libxvid --enable-libzmq --enable-libzvbi --enable-lv2 --enable-omx --enable-openal --enable-opencl --enable-opengl --enable-sdl2 --enable-mmal --enable-neon --enable-rpi --enable-v4l2-request --enable-libudev --enable-epoxy --enable-pocketsphinx --enable-libdc1394 --enable-libdrm --enable-vout-drm --enable-libiec61883 --enable-chromaprint --enable-frei0r --enable-libx264 --libdir=/usr/lib/arm-linux-gnueabihf/neon/vfp --cpu=cortex-a7 --arch=armv6t2 --disable-thumb --enable-shared --disable-doc --disable-programs\n",
      "  avfilter    configuration: --prefix=/usr --extra-version=0+deb11u1+rpt5 --toolchain=hardened --incdir=/usr/include/arm-linux-gnueabihf --enable-gpl --disable-stripping --enable-avresample --disable-filter=resample --enable-gnutls --enable-ladspa --enable-libaom --enable-libass --enable-libbluray --enable-libbs2b --enable-libcaca --enable-libcdio --enable-libcodec2 --enable-libdav1d --enable-libflite --enable-libfontconfig --enable-libfreetype --enable-libfribidi --enable-libgme --enable-libgsm --enable-libjack --enable-libmp3lame --enable-libmysofa --enable-libopenjpeg --enable-libopenmpt --enable-libopus --enable-libpulse --enable-librabbitmq --enable-librsvg --enable-librubberband --enable-libshine --enable-libsnappy --enable-libsoxr --enable-libspeex --enable-libsrt --enable-libssh --enable-libtheora --enable-libtwolame --enable-libvidstab --enable-libvorbis --enable-libvpx --enable-libwavpack --enable-libwebp --enable-libx265 --enable-libxml2 --enable-libxvid --enable-libzmq --enable-libzvbi --enable-lv2 --enable-omx --enable-openal --enable-opencl --enable-opengl --enable-sdl2 --enable-mmal --enable-neon --enable-rpi --enable-v4l2-request --enable-libudev --enable-epoxy --enable-pocketsphinx --enable-libdc1394 --enable-libdrm --enable-vout-drm --enable-libiec61883 --enable-chromaprint --enable-frei0r --enable-libx264 --libdir=/usr/lib/arm-linux-gnueabihf/neon/vfp --cpu=cortex-a7 --arch=armv6t2 --disable-thumb --enable-shared --disable-doc --disable-programs\n",
      "  avresample  configuration: --prefix=/usr --extra-version=0+deb11u1+rpt5 --toolchain=hardened --incdir=/usr/include/arm-linux-gnueabihf --enable-gpl --disable-stripping --enable-avresample --disable-filter=resample --enable-gnutls --enable-ladspa --enable-libaom --enable-libass --enable-libbluray --enable-libbs2b --enable-libcaca --enable-libcdio --enable-libcodec2 --enable-libdav1d --enable-libflite --enable-libfontconfig --enable-libfreetype --enable-libfribidi --enable-libgme --enable-libgsm --enable-libjack --enable-libmp3lame --enable-libmysofa --enable-libopenjpeg --enable-libopenmpt --enable-libopus --enable-libpulse --enable-librabbitmq --enable-librsvg --enable-librubberband --enable-libshine --enable-libsnappy --enable-libsoxr --enable-libspeex --enable-libsrt --enable-libssh --enable-libtheora --enable-libtwolame --enable-libvidstab --enable-libvorbis --enable-libvpx --enable-libwavpack --enable-libwebp --enable-libx265 --enable-libxml2 --enable-libxvid --enable-libzmq --enable-libzvbi --enable-lv2 --enable-omx --enable-openal --enable-opencl --enable-opengl --enable-sdl2 --enable-mmal --enable-neon --enable-rpi --enable-v4l2-request --enable-libudev --enable-epoxy --enable-pocketsphinx --enable-libdc1394 --enable-libdrm --enable-vout-drm --enable-libiec61883 --enable-chromaprint --enable-frei0r --enable-libx264 --libdir=/usr/lib/arm-linux-gnueabihf/neon/vfp --cpu=cortex-a7 --arch=armv6t2 --disable-thumb --enable-shared --disable-doc --disable-programs\n",
      "  swscale     configuration: --prefix=/usr --extra-version=0+deb11u1+rpt5 --toolchain=hardened --incdir=/usr/include/arm-linux-gnueabihf --enable-gpl --disable-stripping --enable-avresample --disable-filter=resample --enable-gnutls --enable-ladspa --enable-libaom --enable-libass --enable-libbluray --enable-libbs2b --enable-libcaca --enable-libcdio --enable-libcodec2 --enable-libdav1d --enable-libflite --enable-libfontconfig --enable-libfreetype --enable-libfribidi --enable-libgme --enable-libgsm --enable-libjack --enable-libmp3lame --enable-libmysofa --enable-libopenjpeg --enable-libopenmpt --enable-libopus --enable-libpulse --enable-librabbitmq --enable-librsvg --enable-librubberband --enable-libshine --enable-libsnappy --enable-libsoxr --enable-libspeex --enable-libsrt --enable-libssh --enable-libtheora --enable-libtwolame --enable-libvidstab --enable-libvorbis --enable-libvpx --enable-libwavpack --enable-libwebp --enable-libx265 --enable-libxml2 --enable-libxvid --enable-libzmq --enable-libzvbi --enable-lv2 --enable-omx --enable-openal --enable-opencl --enable-opengl --enable-sdl2 --enable-mmal --enable-neon --enable-rpi --enable-v4l2-request --enable-libudev --enable-epoxy --enable-pocketsphinx --enable-libdc1394 --enable-libdrm --enable-vout-drm --enable-libiec61883 --enable-chromaprint --enable-frei0r --enable-libx264 --libdir=/usr/lib/arm-linux-gnueabihf/neon/vfp --cpu=cortex-a7 --arch=armv6t2 --disable-thumb --enable-shared --disable-doc --disable-programs\n",
      "  swresample  configuration: --prefix=/usr --extra-version=0+deb11u1+rpt5 --toolchain=hardened --incdir=/usr/include/arm-linux-gnueabihf --enable-gpl --disable-stripping --enable-avresample --disable-filter=resample --enable-gnutls --enable-ladspa --enable-libaom --enable-libass --enable-libbluray --enable-libbs2b --enable-libcaca --enable-libcdio --enable-libcodec2 --enable-libdav1d --enable-libflite --enable-libfontconfig --enable-libfreetype --enable-libfribidi --enable-libgme --enable-libgsm --enable-libjack --enable-libmp3lame --enable-libmysofa --enable-libopenjpeg --enable-libopenmpt --enable-libopus --enable-libpulse --enable-librabbitmq --enable-librsvg --enable-librubberband --enable-libshine --enable-libsnappy --enable-libsoxr --enable-libspeex --enable-libsrt --enable-libssh --enable-libtheora --enable-libtwolame --enable-libvidstab --enable-libvorbis --enable-libvpx --enable-libwavpack --enable-libwebp --enable-libx265 --enable-libxml2 --enable-libxvid --enable-libzmq --enable-libzvbi --enable-lv2 --enable-omx --enable-openal --enable-opencl --enable-opengl --enable-sdl2 --enable-mmal --enable-neon --enable-rpi --enable-v4l2-request --enable-libudev --enable-epoxy --enable-pocketsphinx --enable-libdc1394 --enable-libdrm --enable-vout-drm --enable-libiec61883 --enable-chromaprint --enable-frei0r --enable-libx264 --libdir=/usr/lib/arm-linux-gnueabihf/neon/vfp --cpu=cortex-a7 --arch=armv6t2 --disable-thumb --enable-shared --disable-doc --disable-programs\n",
      "  postproc    configuration: --prefix=/usr --extra-version=0+deb11u1+rpt5 --toolchain=hardened --incdir=/usr/include/arm-linux-gnueabihf --enable-gpl --disable-stripping --enable-avresample --disable-filter=resample --enable-gnutls --enable-ladspa --enable-libaom --enable-libass --enable-libbluray --enable-libbs2b --enable-libcaca --enable-libcdio --enable-libcodec2 --enable-libdav1d --enable-libflite --enable-libfontconfig --enable-libfreetype --enable-libfribidi --enable-libgme --enable-libgsm --enable-libjack --enable-libmp3lame --enable-libmysofa --enable-libopenjpeg --enable-libopenmpt --enable-libopus --enable-libpulse --enable-librabbitmq --enable-librsvg --enable-librubberband --enable-libshine --enable-libsnappy --enable-libsoxr --enable-libspeex --enable-libsrt --enable-libssh --enable-libtheora --enable-libtwolame --enable-libvidstab --enable-libvorbis --enable-libvpx --enable-libwavpack --enable-libwebp --enable-libx265 --enable-libxml2 --enable-libxvid --enable-libzmq --enable-libzvbi --enable-lv2 --enable-omx --enable-openal --enable-opencl --enable-opengl --enable-sdl2 --enable-mmal --enable-neon --enable-rpi --enable-v4l2-request --enable-libudev --enable-epoxy --enable-pocketsphinx --enable-libdc1394 --enable-libdrm --enable-vout-drm --enable-libiec61883 --enable-chromaprint --enable-frei0r --enable-libx264 --libdir=/usr/lib/arm-linux-gnueabihf/neon/vfp --cpu=cortex-a7 --arch=armv6t2 --disable-thumb --enable-shared --disable-doc --disable-programs\n",
      "  libavutil      56. 51.100 / 56. 51.100\n",
      "  libavcodec     58. 91.100 / 58. 91.100\n",
      "  libavformat    58. 45.100 / 58. 45.100\n",
      "  libavdevice    58. 10.100 / 58. 10.100\n",
      "  libavfilter     7. 85.100 /  7. 85.100\n",
      "  libavresample   4.  0.  0 /  4.  0.  0\n",
      "  libswscale      5.  7.100 /  5.  7.100\n",
      "  libswresample   3.  7.100 /  3.  7.100\n",
      "  libpostproc    55.  7.100 / 55.  7.100\n",
      "Input #0, h264, from 'data/recording.h264':\n",
      "  Duration: N/A, bitrate: N/A\n",
      "    Stream #0:0: Video: h264 (High), yuv420p(progressive), 768x432, 98.80 fps, 100 tbr, 1200k tbn, 200 tbc\n",
      "Stream mapping:\n",
      "  Stream #0:0 -> #0:0 (h264 (native) -> rawvideo (native))\n",
      "Press [q] to stop, [?] for help\n",
      "[swscaler @ 0x148d840] No accelerated colorspace conversion found from yuv420p to rgb24.\n",
      "Output #0, rawvideo, to 'pipe:':\n",
      "  Metadata:\n",
      "    encoder         : Lavf58.45.100\n",
      "    Stream #0:0: Video: rawvideo (RGB[24] / 0x18424752), rgb24, 768x432, q=2-31, 796262 kb/s, 100 fps, 100 tbn, 100 tbc\n",
      "    Metadata:\n",
      "      encoder         : Lavc58.91.100 rawvideo\n",
      "frame=  860 fps=131 q=-0.0 size=  835920kB time=00:00:08.60 bitrate=796262.4kbits/s dup=12 drop=0 speed=1.31x    \r"
     ]
    },
    {
     "name": "stdout",
     "output_type": "stream",
     "text": [
      "done\n"
     ]
    },
    {
     "name": "stderr",
     "output_type": "stream",
     "text": [
      "frame=  937 fps=132 q=-0.0 Lsize=  910764kB time=00:00:09.37 bitrate=796262.4kbits/s dup=12 drop=0 speed=1.32x    \n",
      "video:910764kB audio:0kB subtitle:0kB other streams:0kB global headers:0kB muxing overhead: 0.000000%\n"
     ]
    }
   ],
   "source": [
    "# let ffmpeg write raw video to pipe\n",
    "out, _ = (\n",
    "    ffmpeg\n",
    "    .input('data/recording.h264')\n",
    "    .output('pipe:', format='rawvideo', pix_fmt='rgb24')\n",
    "    .run(capture_stdout=True)\n",
    ")\n",
    "\n",
    "# capture from pipe\n",
    "video = (\n",
    "    np\n",
    "    .frombuffer(out, dtype=np.uint8)\n",
    "    .reshape([-1, height, width, 3])\n",
    ")\n",
    "print('done')"
   ]
  },
  {
   "cell_type": "markdown",
   "id": "90db8ea3-2f04-4066-a3ae-c5482da2e355",
   "metadata": {},
   "source": [
    "## Frame Santization\n",
    "In this cell it is possible to gather tracking information for each frame of the video that gets cached above. By default, a subset of all frames that contain tracking points will be collected. This subset will then be made available for further manual cleanup. "
   ]
  },
  {
   "cell_type": "code",
   "execution_count": 16,
   "id": "19514dcb-2986-43b4-880c-1d522a3214ff",
   "metadata": {},
   "outputs": [
    {
     "data": {
      "application/vnd.jupyter.widget-view+json": {
       "model_id": "e991c05c48f7436184ffb3e33759a54b",
       "version_major": 2,
       "version_minor": 0
      },
      "text/plain": [
       "IntSlider(value=0, max=31)"
      ]
     },
     "metadata": {},
     "output_type": "display_data"
    },
    {
     "data": {
      "application/vnd.jupyter.widget-view+json": {
       "model_id": "c2ee6c1323d34f7b9aa14abcd806c816",
       "version_major": 2,
       "version_minor": 0
      },
      "text/plain": [
       "Button(description='Remove Frame', style=ButtonStyle())"
      ]
     },
     "metadata": {},
     "output_type": "display_data"
    },
    {
     "data": {
      "application/vnd.jupyter.widget-view+json": {
       "model_id": "1da5e7ed6aba4d308135db013c40eb95",
       "version_major": 2,
       "version_minor": 0
      },
      "text/plain": [
       "Output()"
      ]
     },
     "execution_count": 16,
     "metadata": {},
     "output_type": "execute_result"
    }
   ],
   "source": [
    "# metadata class for tracked objects in frames\n",
    "@dataclass\n",
    "class TrackingPoint:\n",
    "    delta_millis: int = 0\n",
    "    index: int = 0\n",
    "    pos: (int, int) = (None, None)\n",
    "\n",
    "# get metadata for each frame where objects were detected\n",
    "global config\n",
    "tracking_points = []\n",
    "for i, frame in enumerate(video):\n",
    "    circles = track_objects(frame, config)\n",
    "    if circles is not None:\n",
    "        for c in circles:\n",
    "            p = TrackingPoint()\n",
    "            p.delta_millis = 0 # TODO: fetch from timestamps file\n",
    "            p.index = i\n",
    "            p.pos = (c[0][0], c[0][1])\n",
    "            tracking_points.append(p)\n",
    "\n",
    "# get a subset of frames which has only non-empty frames\n",
    "frame_subset = []\n",
    "for p in tracking_points:\n",
    "    frame_subset.append(video[p.index])\n",
    "nr_frames = len(frame_subset)\n",
    "\n",
    "# ui elements\n",
    "slider = IntSlider(min=0, max=nr_frames, step=1, readout=True)\n",
    "button = Button(description='Remove Frame')\n",
    "out = Output()\n",
    "display(slider, button)\n",
    "\n",
    "# gets called each time slider value changes\n",
    "def slider_callback(change):\n",
    "    with out:\n",
    "        out.clear_output()\n",
    "        plt.axis('off')\n",
    "        plt.imshow(frame_subset[change['new']])\n",
    "        plt.tight_layout()\n",
    "        plt.show()\n",
    "\n",
    "# gets called each time button gets pressed\n",
    "def button_callback(_):\n",
    "    for p in tracking_points:\n",
    "        if p.index == slider.value:\n",
    "            frame_subset.pop(p.index)\n",
    "            tracking_points.remove(p)\n",
    "            break\n",
    "    slider.max -= 1\n",
    "    slider_callback({ 'new': slider.value })\n",
    "    with out:\n",
    "        print('enters')\n",
    "\n",
    "# register callback functions\n",
    "slider.observe(slider_callback, names='value')\n",
    "button.on_click(button_callback)\n",
    "\n",
    "# display callback output\n",
    "out"
   ]
  },
  {
   "cell_type": "markdown",
   "id": "a0ffff85-7362-4cae-8f3d-e7302b14d6ec",
   "metadata": {},
   "source": [
    "## TODO\n",
    "better naming;\n",
    "make contour tracker;\n",
    "csv writer;\n",
    "rewrite single frame select to use python-ffmpeg solution;"
   ]
  },
  {
   "cell_type": "markdown",
   "id": "3e3dc056-986a-4e9f-99d1-5e62af77f779",
   "metadata": {},
   "source": [
    "# Bespreken met Joshua\n",
    "## Is het niet te primitief?\n",
    "Heel veel hoepeltjes om doorheen te springen, alleen al voor de meest basale tracking\n",
    "## Welke problemen willen we de studenten wel/niet zelf laten oplossen?\n",
    "Voornamelijk"
   ]
  },
  {
   "cell_type": "code",
   "execution_count": null,
   "id": "315ea78d-5932-4e5c-95f2-6f60f346d9d6",
   "metadata": {},
   "outputs": [],
   "source": []
  }
 ],
 "metadata": {
  "kernelspec": {
   "display_name": "Python 3 (ipykernel)",
   "language": "python",
   "name": "python3"
  },
  "language_info": {
   "codemirror_mode": {
    "name": "ipython",
    "version": 3
   },
   "file_extension": ".py",
   "mimetype": "text/x-python",
   "name": "python",
   "nbconvert_exporter": "python",
   "pygments_lexer": "ipython3",
   "version": "3.9.2"
  }
 },
 "nbformat": 4,
 "nbformat_minor": 5
}
